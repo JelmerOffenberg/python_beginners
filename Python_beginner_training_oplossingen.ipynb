{
 "cells": [
  {
   "cell_type": "markdown",
   "metadata": {
    "collapsed": true
   },
   "source": [
    "<h1>The anatomy of a function</h1><br>\n",
    "A function is a block of organized, reusable code that is used to perform a single, related action. Functions provide better modularity for your application and a high degree of code reusing.\n",
    "\n",
    "As you already know, Python gives you many built-in functions like print(), etc. but you can also create your own functions. These functions are called user-defined functions.\n",
    "\n",
    "\n",
    "### *Python function*\n",
    "<center><img src=\"https://swcarpentry.github.io/python-novice-inflammation/fig/python-function.svg\"/></center>\n",
    "\n",
    "### *Python function with local variable*\n",
    "<center><img src=\"http://www.informit.com/content/images/chap2_9780134076430/elementLinks/p0215_01.jpg\"/></center>\n"
   ]
  },
  {
   "cell_type": "markdown",
   "metadata": {},
   "source": [
    "# Python basic data types"
   ]
  },
  {
   "cell_type": "code",
   "execution_count": 2,
   "metadata": {},
   "outputs": [
    {
     "name": "stdout",
     "output_type": "stream",
     "text": [
      "string\n",
      "<class 'str'>\n"
     ]
    }
   ],
   "source": [
    "# String\n",
    "a_string = 'string'\n",
    "print(a_string)\n",
    "print(type(a_string))"
   ]
  },
  {
   "cell_type": "code",
   "execution_count": 3,
   "metadata": {},
   "outputs": [
    {
     "name": "stdout",
     "output_type": "stream",
     "text": [
      "8\n",
      "<class 'int'>\n"
     ]
    }
   ],
   "source": [
    "# Int\n",
    "an_integer = 8\n",
    "print(an_integer)\n",
    "print(type(an_integer))"
   ]
  },
  {
   "cell_type": "code",
   "execution_count": 4,
   "metadata": {},
   "outputs": [
    {
     "name": "stdout",
     "output_type": "stream",
     "text": [
      "6.4\n",
      "<class 'float'>\n"
     ]
    }
   ],
   "source": [
    "# Float\n",
    "a_float = 6.4\n",
    "print(a_float)\n",
    "print(type(a_float))"
   ]
  },
  {
   "cell_type": "code",
   "execution_count": 5,
   "metadata": {},
   "outputs": [
    {
     "name": "stdout",
     "output_type": "stream",
     "text": [
      "['List', 'With', 4, 'Values']\n",
      "<class 'list'>\n",
      "4\n"
     ]
    }
   ],
   "source": [
    "# List\n",
    "a_list = ['List', 'With', 4, 'Values']\n",
    "print(a_list)\n",
    "print(type(a_list))"
   ]
  },
  {
   "cell_type": "code",
   "execution_count": 6,
   "metadata": {},
   "outputs": [
    {
     "name": "stdout",
     "output_type": "stream",
     "text": [
      "{'a_key': 'a_value', 'another_key': 42}\n",
      "<class 'dict'>\n"
     ]
    }
   ],
   "source": [
    "# Dict\n",
    "a_dict = {'a_key': 'a_value', 'another_key': 42}\n",
    "print(a_dict)\n",
    "print(type(a_dict))"
   ]
  },
  {
   "cell_type": "code",
   "execution_count": 14,
   "metadata": {},
   "outputs": [
    {
     "name": "stdout",
     "output_type": "stream",
     "text": [
      "<function a_function at 0x10cf30e18>\n",
      "<class 'function'>\n"
     ]
    },
    {
     "data": {
      "text/plain": [
       "'This will be returned'"
      ]
     },
     "execution_count": 14,
     "metadata": {},
     "output_type": "execute_result"
    }
   ],
   "source": [
    "# Function\n",
    "def a_function():\n",
    "    a_variable = 'This will be returned'\n",
    "    return a_variable\n",
    "\n",
    "print(a_function)\n",
    "print(type(a_function))\n",
    "a_function()"
   ]
  },
  {
   "cell_type": "markdown",
   "metadata": {},
   "source": [
    "**Loops**<br>\n",
    "Python knows two kind of loops:\n",
    "    - For loops\n",
    "    - While loops\n",
    "    "
   ]
  },
  {
   "cell_type": "markdown",
   "metadata": {},
   "source": [
    "## Exercises\n",
    "Let's begin with the exercises, you might find some exercises easy and some harder. Spend atleast 10 minutes Googling and attempting the exercise yourself. This is the best way to learn. Also make sure you understand what the code is doing (instead of copy pasting code :))."
   ]
  },
  {
   "cell_type": "markdown",
   "metadata": {},
   "source": [
    "<hr>\n",
    "## Exercise 0\n",
    "Write a function that prints out your name."
   ]
  },
  {
   "cell_type": "code",
   "execution_count": 1,
   "metadata": {},
   "outputs": [
    {
     "name": "stdout",
     "output_type": "stream",
     "text": [
      "Jelmer\n"
     ]
    }
   ],
   "source": [
    "def print_name():\n",
    "    print('Jelmer')\n",
    "\n",
    "print_name()"
   ]
  },
  {
   "cell_type": "markdown",
   "metadata": {},
   "source": [
    "<hr>\n",
    "## Exercise 1\n",
    "Write a function which prints out an appropriate message to the user. The message depends on whether the number is even or odd."
   ]
  },
  {
   "cell_type": "code",
   "execution_count": 33,
   "metadata": {
    "collapsed": true
   },
   "outputs": [],
   "source": [
    "## Insert your solution ##"
   ]
  },
  {
   "cell_type": "code",
   "execution_count": 2,
   "metadata": {
    "collapsed": true
   },
   "outputs": [],
   "source": [
    "def ex_1(number):\n",
    "    if number % 2 == 0:\n",
    "        print('Even')\n",
    "    else:\n",
    "        print('Odd')"
   ]
  },
  {
   "cell_type": "code",
   "execution_count": 3,
   "metadata": {},
   "outputs": [
    {
     "name": "stdout",
     "output_type": "stream",
     "text": [
      "Odd\n"
     ]
    }
   ],
   "source": [
    "ex_1(5)"
   ]
  },
  {
   "cell_type": "markdown",
   "metadata": {},
   "source": [
    "<hr>\n",
    "## Exercise 2\n",
    "Implement a function that takes as input three variables, and returns the largest of the three. Do this without using the Python max() function!"
   ]
  },
  {
   "cell_type": "code",
   "execution_count": 4,
   "metadata": {
    "collapsed": true
   },
   "outputs": [],
   "source": [
    "def ex_2(x, y, z):\n",
    "    var_list = (x, y, z)\n",
    "    sorted_list = sorted(var_list)\n",
    "    \n",
    "    return sorted_list[-1]"
   ]
  },
  {
   "cell_type": "code",
   "execution_count": 6,
   "metadata": {},
   "outputs": [
    {
     "data": {
      "text/plain": [
       "8"
      ]
     },
     "execution_count": 6,
     "metadata": {},
     "output_type": "execute_result"
    }
   ],
   "source": [
    "ex_2(5,8,3)"
   ]
  },
  {
   "cell_type": "markdown",
   "metadata": {},
   "source": [
    "<hr>\n",
    "## Exercise 3\n",
    "Take a list, say for example this one:\n",
    "\n",
    "**a = [1, 1, 2, 3, 5, 8, 13, 21, 34, 55, 89]**\n",
    "\n",
    "and write a program (function!) that prints out all the elements of the list that are less than 5.\n",
    "\n",
    "**Extras:**\n",
    "- Instead of printing the elements one by one, make a new list that has all the elements less than 5 from this list in it and print out this new list.\n",
    "- Write this in one line of Python.\n",
    "- Ask the user for a number and return a list that contains only elements from the original list a that are smaller than that number given by the user.\n"
   ]
  },
  {
   "cell_type": "code",
   "execution_count": 7,
   "metadata": {},
   "outputs": [
    {
     "data": {
      "text/plain": [
       "[1, 1, 2, 3]"
      ]
     },
     "execution_count": 7,
     "metadata": {},
     "output_type": "execute_result"
    }
   ],
   "source": [
    "a = [1, 1, 2, 3, 5, 8, 13, 21, 34, 55, 89]\n",
    "\n",
    "def ex_3(variable):\n",
    "    lege_lijst = []\n",
    "    for item in variable:\n",
    "        if item < 5:\n",
    "            lege_lijst.append(item)\n",
    "            \n",
    "    return lege_lijst\n",
    "\n",
    "\n",
    "## OF ##\n",
    "\n",
    "[x for x in a if x < 5]\n",
    "## Insert your solution ##"
   ]
  },
  {
   "cell_type": "markdown",
   "metadata": {},
   "source": [
    "<hr>\n",
    "## Exercise 4\n",
    "\n",
    "Write a program that takes a list of numbers (for example, a = [5, 10, 15, 20, 25]) and makes a new list of only the first and last elements of the given list. For practice, write this code inside a function."
   ]
  },
  {
   "cell_type": "code",
   "execution_count": 36,
   "metadata": {
    "collapsed": true
   },
   "outputs": [],
   "source": [
    "a = [5, 10, 15, 20, 25]\n",
    "\n",
    "## Insert your solution ##"
   ]
  },
  {
   "cell_type": "code",
   "execution_count": 14,
   "metadata": {
    "collapsed": true
   },
   "outputs": [],
   "source": [
    "def ex_4(var_lijst):\n",
    "    first = var_lijst[0]\n",
    "    last = var_lijst[-1]\n",
    "    \n",
    "    result = [first, last]\n",
    "    return result"
   ]
  },
  {
   "cell_type": "code",
   "execution_count": 15,
   "metadata": {},
   "outputs": [
    {
     "data": {
      "text/plain": [
       "[12, 67]"
      ]
     },
     "execution_count": 15,
     "metadata": {},
     "output_type": "execute_result"
    }
   ],
   "source": [
    "ex_4([12,3,4,5,6,67])"
   ]
  },
  {
   "cell_type": "markdown",
   "metadata": {},
   "source": [
    "<hr>\n",
    "## Exercise 5\n",
    "Write a program (function!) that takes a list and returns a new list that contains all the elements of the first list minus all the duplicates.\n",
    "\n",
    "**Extras:**\n",
    "- Write two different functions to do this - one using a loop and constructing a list, and another using sets.\n",
    "- Go back and do Exercise 5 using sets, and write the solution for that in a different function.\n"
   ]
  },
  {
   "cell_type": "code",
   "execution_count": 37,
   "metadata": {
    "collapsed": true
   },
   "outputs": [],
   "source": [
    "## Insert your solution ##\n",
    "# this one uses a for loop\n",
    "def dedupe_v1(x):\n",
    "    y = []\n",
    "    for i in x:\n",
    "        if i not in y:\n",
    "            y.append(i)\n",
    "    return y\n",
    "\n",
    "#this one uses sets, we create a list again from the set (try it without list, you'll notice the difference)\n",
    "def dedupe_v2(x):\n",
    "    return list(set(x))"
   ]
  },
  {
   "cell_type": "markdown",
   "metadata": {},
   "source": [
    "<hr>\n",
    "## Exercise 6\n",
    "Let’s say I give you a list saved in a variable: a = [1, 4, 9, 16, 25, 36, 49, 64, 81, 100]. Write one line of Python that takes this list a and makes a new list that has only the even elements of this list in it."
   ]
  },
  {
   "cell_type": "code",
   "execution_count": 62,
   "metadata": {
    "collapsed": true
   },
   "outputs": [],
   "source": [
    "a = [1, 4, 9, 16, 25, 36, 49, 64, 81, 100]\n",
    "## Insert your solution ##\n",
    "new_list = [x for x in a if x % 2 == 0]"
   ]
  },
  {
   "cell_type": "markdown",
   "metadata": {
    "collapsed": true
   },
   "source": [
    "<hr>\n",
    "## Exercise 7\n",
    "Write a function that takes as input a word, and returns this word inserted into any sentence you would like.\n",
    "\n",
    "**Example: \"Python\" -> \"This Python stuff isn't so hard\"**"
   ]
  },
  {
   "cell_type": "code",
   "execution_count": 63,
   "metadata": {
    "collapsed": true
   },
   "outputs": [],
   "source": [
    "## Insert your solution ##\n",
    "def word_function(word):\n",
    "    return 'Return this ' + word"
   ]
  },
  {
   "cell_type": "code",
   "execution_count": 66,
   "metadata": {},
   "outputs": [
    {
     "data": {
      "text/plain": [
       "'Return this whatever we want'"
      ]
     },
     "execution_count": 66,
     "metadata": {},
     "output_type": "execute_result"
    }
   ],
   "source": [
    "word_function('whatever we want')"
   ]
  },
  {
   "cell_type": "markdown",
   "metadata": {},
   "source": [
    "<hr>\n",
    "## Exercise 8\n",
    "Write a program (using functions!) that asks the user for a long string containing multiple words. Print back to the user the same string, except with the words in backwards order. For example, say I type the string:\n",
    "\n",
    "**\"My name is Jelmer\"**\n",
    "\n",
    "Then I would see the string:\n",
    "\n",
    "**\"Jelmer is name My\"**\n",
    "\n",
    "shown back to me."
   ]
  },
  {
   "cell_type": "code",
   "execution_count": 96,
   "metadata": {
    "collapsed": true
   },
   "outputs": [],
   "source": [
    "## Insert your solution ##\n",
    "\n",
    "def reverse_sentence(sentence):\n",
    "    # Split sentence\n",
    "    split = sentence.split()\n",
    "    reverse = reversed(split)\n",
    "    \n",
    "    # We use this one to space all new words\n",
    "    spacer = ' '\n",
    "    \n",
    "    # Join each element from the list to the empty space\n",
    "    result = spacer.join(reverse)\n",
    "    \n",
    "    return result"
   ]
  },
  {
   "cell_type": "code",
   "execution_count": 98,
   "metadata": {},
   "outputs": [
    {
     "data": {
      "text/plain": [
       "'must we Python Learn'"
      ]
     },
     "execution_count": 98,
     "metadata": {},
     "output_type": "execute_result"
    }
   ],
   "source": [
    "reverse_sentence('Learn Python we must') # Credits to Karel "
   ]
  },
  {
   "cell_type": "markdown",
   "metadata": {},
   "source": [
    "<hr>\n",
    "## Exercise 9\n",
    "Write a password generator in Python. Be creative with how you generate passwords - strong passwords have a mix of lowercase letters, uppercase letters, numbers, and symbols. The passwords should be random, generating a new password every time the user asks for a new password. Include your run-time code in a main method.\n",
    "\n",
    "***Extra:***\n",
    "- Ask the user how strong they want their password to be. For weak passwords, pick a word or two from a list.\n"
   ]
  },
  {
   "cell_type": "code",
   "execution_count": 100,
   "metadata": {},
   "outputs": [
    {
     "name": "stdout",
     "output_type": "stream",
     "text": [
      "wXP$j4qx\n"
     ]
    }
   ],
   "source": [
    "import random\n",
    "\n",
    "s = \"abcdefghijklmnopqrstuvwxyz01234567890ABCDEFGHIJKLMNOPQRSTUVWXYZ!@#$%^&*()?\"\n",
    "passlen = 8\n",
    "p =  \"\".join(random.sample(s,passlen ))\n",
    "print(p)"
   ]
  },
  {
   "cell_type": "markdown",
   "metadata": {},
   "source": [
    "<hr>\n",
    "## Exercise 10\n",
    "Write a function such that: given a number n, return True if n is in the range 1..10, inclusive. Unless function argument \"outside_mode\" is True, in which case return True if the number is less or equal to 1, or greater or equal to 10."
   ]
  },
  {
   "cell_type": "code",
   "execution_count": 101,
   "metadata": {
    "collapsed": true
   },
   "outputs": [],
   "source": [
    "## Insert your solution ##\n",
    "def ex_10(x, outside_mode=False):\n",
    "    if x in range(1,11) and outside_mode:\n",
    "        return True\n",
    "    else:\n",
    "        return False"
   ]
  },
  {
   "cell_type": "code",
   "execution_count": 102,
   "metadata": {},
   "outputs": [
    {
     "data": {
      "text/plain": [
       "True"
      ]
     },
     "execution_count": 102,
     "metadata": {},
     "output_type": "execute_result"
    }
   ],
   "source": [
    "ex_10(10, True)"
   ]
  },
  {
   "cell_type": "markdown",
   "metadata": {},
   "source": [
    "<hr>\n",
    "## Exercise 11\n",
    "Return the \"centered\" average of an array of ints, which we'll say is the mean average of the values, except ignoring the largest and smallest values in the array. If there are multiple copies of the smallest value, ignore just one copy, and likewise for the largest value. Use int division to produce the final average. You may assume that the array is length 3 or more."
   ]
  },
  {
   "cell_type": "code",
   "execution_count": 42,
   "metadata": {
    "collapsed": true
   },
   "outputs": [],
   "source": [
    "l = [4, 2, 8, 6, 10]\n",
    "\n",
    "def center_avg(l):\n",
    "    # Sort the list from low to high\n",
    "    l_s = sorted(l)\n",
    "    \n",
    "    # Omit the first and last elements\n",
    "    subset = l_s[1:-1]\n",
    "    \n",
    "    # Divide the sum over the length (average)\n",
    "    avg = sum(subset) / len(subset)\n",
    "    \n",
    "    # Return\n",
    "    return avg\n",
    "\n",
    "center_avg(l)"
   ]
  },
  {
   "cell_type": "markdown",
   "metadata": {},
   "source": [
    "<hr>\n",
    "## Exercise 12 (harder)\n",
    "Write your own Factorial function using the definition below.\n",
    "\n",
    "<img style=\"float:left;\" src=\"https://wikimedia.org/api/rest_v1/media/math/render/svg/26dd1fcd06593cc552a96cc44f360b94bb791534\"/>"
   ]
  },
  {
   "cell_type": "code",
   "execution_count": 103,
   "metadata": {
    "collapsed": true
   },
   "outputs": [],
   "source": [
    "## Insert your solution\n",
    "def ex_12(n):\n",
    "    totaal = 1\n",
    "    for getal in range(1,n + 1):\n",
    "        totaal = totaal * getal\n",
    "    \n",
    "    return totaal"
   ]
  },
  {
   "cell_type": "code",
   "execution_count": 104,
   "metadata": {},
   "outputs": [
    {
     "data": {
      "text/plain": [
       "3628800"
      ]
     },
     "execution_count": 104,
     "metadata": {},
     "output_type": "execute_result"
    }
   ],
   "source": [
    "ex_12(10) # == 10!"
   ]
  },
  {
   "cell_type": "markdown",
   "metadata": {},
   "source": [
    "\n",
    "<hr>\n",
    "## Exercise 13 (harder)\n",
    "n! means n × (n − 1) × ... × 3 × 2 × 1\n",
    "\n",
    "For example, 10! = 10 × 9 × ... × 3 × 2 × 1 = 3628800,\n",
    "and the sum of the digits in the number 10! is 3 + 6 + 2 + 8 + 8 + 0 + 0 = 27.\n",
    "\n",
    "Find the sum of the digits in the number 100!\n"
   ]
  },
  {
   "cell_type": "code",
   "execution_count": 83,
   "metadata": {},
   "outputs": [
    {
     "name": "stdout",
     "output_type": "stream",
     "text": [
      "Adding 3 to the sum\n",
      "Adding 6 to the sum\n",
      "Adding 2 to the sum\n",
      "Adding 8 to the sum\n",
      "Adding 8 to the sum\n",
      "Adding 0 to the sum\n",
      "Adding 0 to the sum\n",
      "The total is 27\n"
     ]
    }
   ],
   "source": [
    "import math\n",
    "# You may use this function, or use your own from previous exercise.\n",
    "number = math.factorial(10)\n",
    "\n",
    "# We use this placeholder to sum the values\n",
    "total = 0\n",
    "\n",
    "# Loop over all numbers\n",
    "for x in str(number):\n",
    "    print('Adding {} to the sum'.format(x))\n",
    "    total += int(x)\n",
    "\n",
    "print('The total is {}'.format(total))\n"
   ]
  },
  {
   "cell_type": "markdown",
   "metadata": {},
   "source": [
    "<hr>\n",
    "## Exercise 14 (harder)\n",
    "Write a function, ishashad that determines whether a number is a Harshad number (for  number base  10).\n",
    "A Harshad number “is an integer that is divisible by the sum of its digits” (Wikipedia)\n",
    "\n",
    "**Example:  81 -> 8 + 1 = 9  -> 81 / 9 = 9 -> Harshad!**"
   ]
  },
  {
   "cell_type": "code",
   "execution_count": 72,
   "metadata": {},
   "outputs": [],
   "source": [
    "## Insert your solution\n",
    "# Easy:\n",
    "def easy_14(number):\n",
    "    sum_number = 0\n",
    "    for x in str(number):\n",
    "        sum_number += int(x)\n",
    "\n",
    "    if number % sum_number == 0:\n",
    "        return 'Harshad'\n",
    "    else:\n",
    "        return False\n",
    "    \n",
    "# Advanced\n",
    "def harder_14(num):\n",
    "    num_sum = sum([int(x) for x in str(num)])\n",
    "    \n",
    "    if num % num_sum == 0:\n",
    "        return 'Harshad'\n",
    "    else:\n",
    "        return False\n",
    "    "
   ]
  },
  {
   "cell_type": "code",
   "execution_count": 69,
   "metadata": {},
   "outputs": [
    {
     "data": {
      "text/plain": [
       "'Harshad'"
      ]
     },
     "execution_count": 69,
     "metadata": {},
     "output_type": "execute_result"
    }
   ],
   "source": [
    "easy_14(81)"
   ]
  },
  {
   "cell_type": "code",
   "execution_count": 73,
   "metadata": {},
   "outputs": [
    {
     "data": {
      "text/plain": [
       "'Harshad'"
      ]
     },
     "execution_count": 73,
     "metadata": {},
     "output_type": "execute_result"
    }
   ],
   "source": [
    "harder_14(81)"
   ]
  },
  {
   "cell_type": "markdown",
   "metadata": {},
   "source": [
    "<hr>\n",
    "## Exercise 15\n",
    "Count  the number  of items  in  a list  with  the result  in a  dictionary.\n",
    "\n",
    "List  example:<br>\n",
    "```python\n",
    "l = [’a’, ’b’, ’f’, ’f’, ’b’, ’b’]\n",
    "```\n",
    "\n",
    "Should  give something  like:<br>\n",
    "```python\n",
    "c = {’a’: 1, ’b’: 3, ’f’: 2}\n",
    "```"
   ]
  },
  {
   "cell_type": "code",
   "execution_count": 92,
   "metadata": {},
   "outputs": [],
   "source": [
    "l = ['a', 'b', 'f', 'f', 'b', 'b']\n",
    "\n",
    "## Insert your solution\n",
    "from collections import Counter # collections is a neat library, you can also write this yourself\n",
    "result = dict(Counter(l))"
   ]
  },
  {
   "cell_type": "code",
   "execution_count": 93,
   "metadata": {},
   "outputs": [
    {
     "data": {
      "text/plain": [
       "{'a': 1, 'b': 3, 'f': 2}"
      ]
     },
     "execution_count": 93,
     "metadata": {},
     "output_type": "execute_result"
    }
   ],
   "source": [
    "result"
   ]
  },
  {
   "cell_type": "markdown",
   "metadata": {},
   "source": [
    "<hr>\n",
    "## Exercise 16\n",
    "Create a dictionary with people and their age. Sort the dictionary by age and print the dictionary.\n",
    "\n",
    "```python\n",
    "# Dict reminder\n",
    "a_dict = {’a’: 1, ’b’: 3, ’c’: 2}\n",
    "```"
   ]
  },
  {
   "cell_type": "markdown",
   "metadata": {},
   "source": [
    "**Sorry I wrongly formulated this question, this is not what a dict is meant for. You can skip this one.**"
   ]
  },
  {
   "cell_type": "code",
   "execution_count": 105,
   "metadata": {
    "collapsed": true
   },
   "outputs": [],
   "source": [
    "# Instead we can consider a list with tuples and perform the following operation:\n",
    "l = [('a', 1), ('b', 28), ('c', 4), ('d', 3)]  \n",
    "    "
   ]
  },
  {
   "cell_type": "code",
   "execution_count": 106,
   "metadata": {},
   "outputs": [
    {
     "data": {
      "text/plain": [
       "[('a', 1), ('d', 3), ('c', 4), ('b', 28)]"
      ]
     },
     "execution_count": 106,
     "metadata": {},
     "output_type": "execute_result"
    }
   ],
   "source": [
    "sorted(l, key=lambda x: x[1])"
   ]
  },
  {
   "cell_type": "code",
   "execution_count": null,
   "metadata": {
    "collapsed": true
   },
   "outputs": [],
   "source": [
    "# In this case, we give a key argument to sort on using a lambda function. x[0] is the first part of the tuple, x[1]\n",
    "# is the second part."
   ]
  }
 ],
 "metadata": {
  "kernelspec": {
   "display_name": "Python [conda env:Python36]",
   "language": "python",
   "name": "conda-env-Python36-py"
  },
  "language_info": {
   "codemirror_mode": {
    "name": "ipython",
    "version": 3
   },
   "file_extension": ".py",
   "mimetype": "text/x-python",
   "name": "python",
   "nbconvert_exporter": "python",
   "pygments_lexer": "ipython3",
   "version": "3.6.2"
  }
 },
 "nbformat": 4,
 "nbformat_minor": 2
}
